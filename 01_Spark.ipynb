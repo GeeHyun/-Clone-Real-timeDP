{
 "cells": [
  {
   "cell_type": "code",
   "execution_count": 10,
   "metadata": {},
   "outputs": [],
   "source": [
    "# 환경변수 설정\n",
    "# JAVA_HOME = \"C:\\\\jdk2\"\n",
    "# SPARK_HOME = \"C:\\\\spark\""
   ]
  },
  {
   "cell_type": "code",
   "execution_count": 1,
   "metadata": {},
   "outputs": [],
   "source": [
    "# SparkSession\n",
    "from pyspark.sql import SparkSession\n",
    "\n",
    "MAX_MEMORY = \"5g\"\n",
    "spark = SparkSession \\\n",
    "    .builder \\\n",
    "    .master(\"local\") \\\n",
    "    .appName(\"tax-fare-prediction\") \\\n",
    "    .config(\"spark.executor.memory\", MAX_MEMORY)\\\n",
    "    .config(\"spark.driver.memory\", MAX_MEMORY)\\\n",
    "    .getOrCreate()"
   ]
  },
  {
   "cell_type": "code",
   "execution_count": 2,
   "metadata": {},
   "outputs": [],
   "source": [
    "# 파일 불러오기\n",
    "df = spark.read.parquet(\"resources/friends.parquet\", inferSchema=True, header=True) # parquet인 경우\n",
    "df = spark.read.csv(\"resources/friends.csv\", inferSchema=True, header=True) # csv인 경우"
   ]
  },
  {
   "cell_type": "code",
   "execution_count": null,
   "metadata": {},
   "outputs": [],
   "source": [
    "# 임시 데이터 프레임 설정\n",
    "df.createOrReplaceTempView(\"Friends\") # 테이블 이름: Friends"
   ]
  },
  {
   "cell_type": "code",
   "execution_count": null,
   "metadata": {},
   "outputs": [],
   "source": [
    "# 쿼리문 적용\n",
    "query = \"SELECT * FROM Friends WHERE ...\"\n",
    "bf = spark.sql(query)"
   ]
  },
  {
   "cell_type": "code",
   "execution_count": null,
   "metadata": {},
   "outputs": [],
   "source": [
    "# 머신러닝 관련 모듈\n",
    "from pyspark.ml import Pipeline\n",
    "from pyspark.ml.regression import LinearRegression\n",
    "from pyspark.ml.tuning import CrossValidator, ParamGridBuilder\n",
    "from pyspark.ml.evaluation import RegressionEvaluator"
   ]
  }
 ],
 "metadata": {
  "kernelspec": {
   "display_name": "Python 3.8.15 ('sixat')",
   "language": "python",
   "name": "python3"
  },
  "language_info": {
   "codemirror_mode": {
    "name": "ipython",
    "version": 3
   },
   "file_extension": ".py",
   "mimetype": "text/x-python",
   "name": "python",
   "nbconvert_exporter": "python",
   "pygments_lexer": "ipython3",
   "version": "3.8.15"
  },
  "orig_nbformat": 4,
  "vscode": {
   "interpreter": {
    "hash": "abb461e5288c23a3dc4ef691e2244e3e3a21267df33a155e6b82188192d1dfe8"
   }
  }
 },
 "nbformat": 4,
 "nbformat_minor": 2
}
